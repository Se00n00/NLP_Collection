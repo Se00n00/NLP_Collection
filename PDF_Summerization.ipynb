{
 "cells": [
  {
   "cell_type": "markdown",
   "id": "a327fecf",
   "metadata": {},
   "source": [
    "### Import Required Packages and Modules"
   ]
  },
  {
   "cell_type": "code",
   "execution_count": 1,
   "id": "42dec2e7",
   "metadata": {},
   "outputs": [],
   "source": [
    "import torch\n",
    "import torch.nn as nn\n",
    "import torch.optim as optim\n",
    "\n",
    "from src.models.PDFSummerizer import Summerizer"
   ]
  },
  {
   "cell_type": "markdown",
   "id": "bb81f0cb",
   "metadata": {},
   "source": [
    "### Model Configuration and Definition"
   ]
  },
  {
   "cell_type": "code",
   "execution_count": 2,
   "id": "fb27b0ac",
   "metadata": {},
   "outputs": [
    {
     "name": "stdout",
     "output_type": "stream",
     "text": [
      "cuda\n"
     ]
    }
   ],
   "source": [
    "device = torch.device(\"cuda\" if torch.cuda.is_available() else \"cpu\")\n",
    "print(device)"
   ]
  },
  {
   "cell_type": "code",
   "execution_count": 3,
   "id": "0f96a8ab",
   "metadata": {},
   "outputs": [],
   "source": [
    "class Config:\n",
    "    num_layers = 2\n",
    "    embed_dim = 512\n",
    "    vocab_size = 1000\n",
    "    max_length = 100\n",
    "    device = device # cuda or cpu\n",
    "    n_heads = 8\n",
    "    ff_dim = 2048\n",
    "    dropout = 0.1"
   ]
  },
  {
   "cell_type": "code",
   "execution_count": 4,
   "id": "0dd9ac87",
   "metadata": {},
   "outputs": [
    {
     "name": "stdout",
     "output_type": "stream",
     "text": [
      "Summerizer(\n",
      "  (embedding_layer): SinusoidalEmbeddingLayer(\n",
      "    (embedding): Embedding(1000, 512)\n",
      "    (layer_norm): LayerNorm((512,), eps=1e-12, elementwise_affine=True)\n",
      "  )\n",
      "  (decoder_layers): ModuleList(\n",
      "    (0-1): 2 x Decoder_Layer(\n",
      "      (layer_norm1): LayerNorm((512,), eps=1e-12, elementwise_affine=True)\n",
      "      (layer_norm2): LayerNorm((512,), eps=1e-12, elementwise_affine=True)\n",
      "      (masked_multi_head_attention): Multi_Head_Attention(\n",
      "        (WQ): Linear(in_features=512, out_features=512, bias=True)\n",
      "        (WK): Linear(in_features=512, out_features=512, bias=True)\n",
      "        (WV): Linear(in_features=512, out_features=512, bias=True)\n",
      "        (WO): Linear(in_features=512, out_features=512, bias=True)\n",
      "      )\n",
      "      (feed_forward): FeedForward(\n",
      "        (fc1): Linear(in_features=512, out_features=2048, bias=True)\n",
      "        (fc2): Linear(in_features=2048, out_features=512, bias=True)\n",
      "        (relu): ReLU()\n",
      "        (droupout): Dropout(p=0.1, inplace=False)\n",
      "      )\n",
      "    )\n",
      "  )\n",
      "  (fc_out): Linear(in_features=512, out_features=1000, bias=True)\n",
      ")\n"
     ]
    }
   ],
   "source": [
    "model = Summerizer(config=Config).to(device)\n",
    "optimizer = torch.optim.AdamW(model.parameters(), lr=2e-4)\n",
    "loss_fn = nn.CrossEntropyLoss()\n",
    "print(model)"
   ]
  }
 ],
 "metadata": {
  "kernelspec": {
   "display_name": "base",
   "language": "python",
   "name": "python3"
  },
  "language_info": {
   "codemirror_mode": {
    "name": "ipython",
    "version": 3
   },
   "file_extension": ".py",
   "mimetype": "text/x-python",
   "name": "python",
   "nbconvert_exporter": "python",
   "pygments_lexer": "ipython3",
   "version": "3.12.7"
  }
 },
 "nbformat": 4,
 "nbformat_minor": 5
}
