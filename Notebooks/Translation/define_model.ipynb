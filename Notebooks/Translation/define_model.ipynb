{
 "cells": [
  {
   "cell_type": "markdown",
   "id": "cfea7ecd",
   "metadata": {},
   "source": [
    "### Setup the Environment"
   ]
  },
  {
   "cell_type": "code",
   "execution_count": 1,
   "id": "b002bf71",
   "metadata": {},
   "outputs": [],
   "source": [
    "import sys\n",
    "import os\n",
    "\n",
    "# Add Language/ as parent Directory\n",
    "sys.path.append(os.path.abspath(os.path.join(os.getcwd(), '../..')))"
   ]
  },
  {
   "cell_type": "markdown",
   "id": "d09d5de4",
   "metadata": {},
   "source": [
    "### Initial Testing"
   ]
  },
  {
   "cell_type": "code",
   "execution_count": 2,
   "id": "d59814eb",
   "metadata": {},
   "outputs": [],
   "source": [
    "from src.models.Translation import TranslationModel"
   ]
  },
  {
   "cell_type": "code",
   "execution_count": 9,
   "id": "6aa56615",
   "metadata": {},
   "outputs": [],
   "source": [
    "import torch\n",
    "class Config:\n",
    "    src_vocab_size = 50257\n",
    "    tgt_vocab_size = 40257\n",
    "    embed_dim = 512\n",
    "    max_length = 512\n",
    "    device = 'cuda' if torch.cuda.is_available() else 'cpu'\n",
    "    num_layers = 6\n",
    "    n_heads = 8\n",
    "    ff_dim = 2048\n",
    "    dropout = 0.1"
   ]
  },
  {
   "cell_type": "code",
   "execution_count": 10,
   "id": "55bee6ea",
   "metadata": {},
   "outputs": [
    {
     "data": {
      "text/plain": [
       "torch.Size([1, 10, 40257])"
      ]
     },
     "execution_count": 10,
     "metadata": {},
     "output_type": "execute_result"
    }
   ],
   "source": [
    "model = TranslationModel(Config)\n",
    "model(torch.Tensor(1,10),torch.Tensor(1,10))[0].shape"
   ]
  },
  {
   "cell_type": "markdown",
   "id": "877492c7",
   "metadata": {},
   "source": [
    "### Convert Model into Pretrained Model"
   ]
  },
  {
   "cell_type": "code",
   "execution_count": 11,
   "id": "1372c472",
   "metadata": {},
   "outputs": [],
   "source": [
    "from Model import Model\n",
    "from ModelConfig import ModelConfig"
   ]
  },
  {
   "cell_type": "code",
   "execution_count": 19,
   "id": "55d0af90",
   "metadata": {},
   "outputs": [
    {
     "data": {
      "text/plain": [
       "torch.Size([1, 2, 50257])"
      ]
     },
     "execution_count": 19,
     "metadata": {},
     "output_type": "execute_result"
    }
   ],
   "source": [
    "config = ModelConfig()\n",
    "model = Model(config)\n",
    "model(torch.tensor([[10,50]]),torch.tensor([[11,23]]))[0].shape"
   ]
  }
 ],
 "metadata": {
  "kernelspec": {
   "display_name": "base",
   "language": "python",
   "name": "python3"
  },
  "language_info": {
   "codemirror_mode": {
    "name": "ipython",
    "version": 3
   },
   "file_extension": ".py",
   "mimetype": "text/x-python",
   "name": "python",
   "nbconvert_exporter": "python",
   "pygments_lexer": "ipython3",
   "version": "3.12.7"
  }
 },
 "nbformat": 4,
 "nbformat_minor": 5
}
