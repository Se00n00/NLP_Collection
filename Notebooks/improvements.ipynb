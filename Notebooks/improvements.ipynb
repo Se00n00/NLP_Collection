{
 "cells": [
  {
   "cell_type": "markdown",
   "id": "2f39477b",
   "metadata": {},
   "source": [
    "### Improvements Implemented after the Vanilla Transformer"
   ]
  },
  {
   "cell_type": "markdown",
   "id": "3f88b805",
   "metadata": {},
   "source": [
    "### 1. Pre-Normallization"
   ]
  },
  {
   "cell_type": "markdown",
   "id": "103ee7b7",
   "metadata": {},
   "source": [
    "![Reference Image](Images/pre-post-ln.png)"
   ]
  },
  {
   "cell_type": "code",
   "execution_count": 3,
   "id": "eb76de79",
   "metadata": {},
   "outputs": [],
   "source": [
    "# Pre-Normallization\n",
    "def forward(self, x, encoder_output):\n",
    "        norm1 = self.layer_norm1(x)                                         # Apply layer1 normalization\n",
    "        attention_output, attention_scores = self.masked_multi_head_attention(norm1, norm1, norm1, mask=True)\n",
    "        x = x + attention_output                                        # Residual connection\n",
    "        \n",
    "        norm2 = self.layer_norm2(x)                                         # Apply layer2 normalization\n",
    "        attention_output, attention_scores = self.multi_head_attention(norm2, encoder_output, encoder_output, mask=False)\n",
    "        x = x + attention_output                                        # Residual connection\n",
    "        \n",
    "        norm3 = self.layer_norm3(x)                                         # Apply layer3 normalization\n",
    "        x = x + self.feed_forward(norm3)                                    # Residual connection\n",
    "        return x, attention_scores                                      # Return the output and attention scores\n",
    "    "
   ]
  },
  {
   "cell_type": "code",
   "execution_count": 4,
   "id": "d73b3976",
   "metadata": {},
   "outputs": [],
   "source": [
    "# Post-Normallization\n",
    "def forward(self, x, encoder_output):                                    \n",
    "        attention_output, attention_scores = self.masked_multi_head_attention(x, x, x, mask=True)\n",
    "        x = x + attention_output                                        # Residual connection\n",
    "        norm1  = self.layer_norm1(x)                                         # Apply layer1 normalization\n",
    "        \n",
    "        attention_output, attention_scores = self.multi_head_attention(norm1, encoder_output, encoder_output, mask=False)\n",
    "        x = x + attention_output                                        # Residual connection\n",
    "        norm2 = self.layer_norm2(x)                                         # Apply layer2 normalization\n",
    "        \n",
    "        x = x + self.feed_forward(norm2)                                    # Residual connection\n",
    "        x = self.layer_norm3(x)                                         # Apply layer3 normalization\n",
    "        return x, attention_scores                                      # Return the output and attention scores"
   ]
  }
 ],
 "metadata": {
  "kernelspec": {
   "display_name": "base",
   "language": "python",
   "name": "python3"
  },
  "language_info": {
   "codemirror_mode": {
    "name": "ipython",
    "version": 3
   },
   "file_extension": ".py",
   "mimetype": "text/x-python",
   "name": "python",
   "nbconvert_exporter": "python",
   "pygments_lexer": "ipython3",
   "version": "3.12.7"
  }
 },
 "nbformat": 4,
 "nbformat_minor": 5
}
