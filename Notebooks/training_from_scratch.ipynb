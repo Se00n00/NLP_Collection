{
 "cells": [
  {
   "cell_type": "markdown",
   "id": "fbd47559",
   "metadata": {},
   "source": [
    "### This Notebook is implementation of Chapter: Transformer from Scratch from [NLP with Transformers Book](https://www.oreilly.com/library/view/natural-language-processing/9781098136789/)"
   ]
  },
  {
   "cell_type": "code",
   "execution_count": null,
   "id": "e4d21a5b",
   "metadata": {
    "vscode": {
     "languageId": "plaintext"
    }
   },
   "outputs": [],
   "source": []
  }
 ],
 "metadata": {
  "language_info": {
   "name": "python"
  }
 },
 "nbformat": 4,
 "nbformat_minor": 5
}
