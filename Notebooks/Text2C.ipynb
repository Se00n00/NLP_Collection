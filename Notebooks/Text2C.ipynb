{
 "cells": [
  {
   "cell_type": "code",
   "execution_count": null,
   "id": "7afb2925",
   "metadata": {},
   "outputs": [
    {
     "data": {
      "text/plain": [
       "True"
      ]
     },
     "execution_count": 4,
     "metadata": {},
     "output_type": "execute_result"
    }
   ],
   "source": [
    "import wandb\n",
    "wandb.login()"
   ]
  },
  {
   "cell_type": "code",
   "execution_count": null,
   "id": "18ff5272",
   "metadata": {},
   "outputs": [],
   "source": [
    "run = wandb.init(\n",
    "    project=\"my-awesome-project\",\n",
    "    config={\n",
    "        \"learning_rate\": 0.02,\n",
    "        \"architecture\": \"CNN\",\n",
    "        \"dataset\": \"CIFAR-100\",\n",
    "        \"epochs\": 10,\n",
    "    },\n",
    ")"
   ]
  },
  {
   "cell_type": "code",
   "execution_count": 8,
   "id": "32d6ab52",
   "metadata": {},
   "outputs": [
    {
     "data": {
      "text/html": [],
      "text/plain": [
       "<IPython.core.display.HTML object>"
      ]
     },
     "metadata": {},
     "output_type": "display_data"
    },
    {
     "data": {
      "text/html": [
       "<br>    <style><br>        .wandb-row {<br>            display: flex;<br>            flex-direction: row;<br>            flex-wrap: wrap;<br>            justify-content: flex-start;<br>            width: 100%;<br>        }<br>        .wandb-col {<br>            display: flex;<br>            flex-direction: column;<br>            flex-basis: 100%;<br>            flex: 1;<br>            padding: 10px;<br>        }<br>    </style><br><div class=\"wandb-row\"><div class=\"wandb-col\"><h3>Run history:</h3><br/><table class=\"wandb\"><tr><td>acc</td><td>▁▁▆▆▇▆▇█</td></tr><tr><td>loss</td><td>█▅▃▁▁▁▂▁</td></tr></table><br/></div><div class=\"wandb-col\"><h3>Run summary:</h3><br/><table class=\"wandb\"><tr><td>acc</td><td>0.89319</td></tr><tr><td>loss</td><td>0.10549</td></tr></table><br/></div></div>"
      ],
      "text/plain": [
       "<IPython.core.display.HTML object>"
      ]
     },
     "metadata": {},
     "output_type": "display_data"
    },
    {
     "data": {
      "text/html": [
       " View run <strong style=\"color:#cdcd00\">scarlet-pyramid-1</strong> at: <a href='https://wandb.ai/bluesky5april2021-upes/my-awesome-project/runs/zlvmte37' target=\"_blank\">https://wandb.ai/bluesky5april2021-upes/my-awesome-project/runs/zlvmte37</a><br> View project at: <a href='https://wandb.ai/bluesky5april2021-upes/my-awesome-project' target=\"_blank\">https://wandb.ai/bluesky5april2021-upes/my-awesome-project</a><br>Synced 5 W&B file(s), 0 media file(s), 0 artifact file(s) and 0 other file(s)"
      ],
      "text/plain": [
       "<IPython.core.display.HTML object>"
      ]
     },
     "metadata": {},
     "output_type": "display_data"
    },
    {
     "data": {
      "text/html": [
       "Find logs at: <code>./wandb/run-20250529_214642-zlvmte37/logs</code>"
      ],
      "text/plain": [
       "<IPython.core.display.HTML object>"
      ]
     },
     "metadata": {},
     "output_type": "display_data"
    }
   ],
   "source": [
    "import random\n",
    "epochs = 10\n",
    "offset = random.random() / 5\n",
    "for epoch in range(2, epochs):\n",
    "    acc = 1 - 2**-epoch - random.random() / epoch - offset\n",
    "    loss = 2**-epoch + random.random() / epoch + offset\n",
    "\n",
    "    # Log metrics to wandb.\n",
    "    run.log({\"acc\": acc, \"loss\": loss})\n",
    "\n",
    "# Finish the run and upload any remaining data.\n",
    "run.finish()"
   ]
  },
  {
   "cell_type": "code",
   "execution_count": null,
   "id": "e4031490",
   "metadata": {},
   "outputs": [
    {
     "data": {
      "application/vnd.jupyter.widget-view+json": {
       "model_id": "dd44dcc92d2a4845ab545b688380fa52",
       "version_major": 2,
       "version_minor": 0
      },
      "text/plain": [
       "config.json:   0%|          | 0.00/665 [00:00<?, ?B/s]"
      ]
     },
     "metadata": {},
     "output_type": "display_data"
    },
    {
     "data": {
      "application/vnd.jupyter.widget-view+json": {
       "model_id": "201bdb8d9a72493ca3a3069cd031bdcb",
       "version_major": 2,
       "version_minor": 0
      },
      "text/plain": [
       "model.safetensors:   0%|          | 0.00/548M [00:00<?, ?B/s]"
      ]
     },
     "metadata": {},
     "output_type": "display_data"
    },
    {
     "data": {
      "application/vnd.jupyter.widget-view+json": {
       "model_id": "3ece6111fbc64a16bb285a704eafeccb",
       "version_major": 2,
       "version_minor": 0
      },
      "text/plain": [
       "generation_config.json:   0%|          | 0.00/124 [00:00<?, ?B/s]"
      ]
     },
     "metadata": {},
     "output_type": "display_data"
    }
   ],
   "source": [
    "from transformers import AutoModelForCausalLM, Trainer, TrainingArguments\n",
    "\n",
    "model = AutoModelForCausalLM.from_pretrained(\"gpt2\", token=\"\")"
   ]
  },
  {
   "cell_type": "code",
   "execution_count": 5,
   "id": "8b1c46eb",
   "metadata": {},
   "outputs": [
    {
     "name": "stdout",
     "output_type": "stream",
     "text": [
      "GPT2LMHeadModel(\n",
      "  (transformer): GPT2Model(\n",
      "    (wte): Embedding(50257, 768)\n",
      "    (wpe): Embedding(1024, 768)\n",
      "    (drop): Dropout(p=0.1, inplace=False)\n",
      "    (h): ModuleList(\n",
      "      (0-11): 12 x GPT2Block(\n",
      "        (ln_1): LayerNorm((768,), eps=1e-05, elementwise_affine=True)\n",
      "        (attn): GPT2Attention(\n",
      "          (c_attn): Conv1D(nf=2304, nx=768)\n",
      "          (c_proj): Conv1D(nf=768, nx=768)\n",
      "          (attn_dropout): Dropout(p=0.1, inplace=False)\n",
      "          (resid_dropout): Dropout(p=0.1, inplace=False)\n",
      "        )\n",
      "        (ln_2): LayerNorm((768,), eps=1e-05, elementwise_affine=True)\n",
      "        (mlp): GPT2MLP(\n",
      "          (c_fc): Conv1D(nf=3072, nx=768)\n",
      "          (c_proj): Conv1D(nf=768, nx=3072)\n",
      "          (act): NewGELUActivation()\n",
      "          (dropout): Dropout(p=0.1, inplace=False)\n",
      "        )\n",
      "      )\n",
      "    )\n",
      "    (ln_f): LayerNorm((768,), eps=1e-05, elementwise_affine=True)\n",
      "  )\n",
      "  (lm_head): Linear(in_features=768, out_features=50257, bias=False)\n",
      ")\n"
     ]
    }
   ],
   "source": [
    "print(model)"
   ]
  },
  {
   "cell_type": "markdown",
   "id": "53ff407a",
   "metadata": {},
   "source": [
    "### Import Required Packages and Modules"
   ]
  },
  {
   "cell_type": "code",
   "execution_count": 1,
   "id": "362f5d87",
   "metadata": {},
   "outputs": [],
   "source": [
    "import torch\n",
    "import torch.nn as nn\n",
    "import torch.optim as optim\n",
    "\n",
    "from src.models.Text2C import Text2C"
   ]
  },
  {
   "cell_type": "markdown",
   "id": "c1091b83",
   "metadata": {},
   "source": [
    "### Model Configuration and Definition"
   ]
  },
  {
   "cell_type": "code",
   "execution_count": 2,
   "id": "80ceb325",
   "metadata": {},
   "outputs": [
    {
     "name": "stdout",
     "output_type": "stream",
     "text": [
      "cuda\n"
     ]
    }
   ],
   "source": [
    "device = torch.device(\"cuda\" if torch.cuda.is_available() else \"cpu\")\n",
    "print(device)"
   ]
  },
  {
   "cell_type": "code",
   "execution_count": 3,
   "id": "344a467b",
   "metadata": {},
   "outputs": [],
   "source": [
    "class Config:\n",
    "    num_layers = 2\n",
    "    embed_dim = 512\n",
    "    vocab_size = 1000\n",
    "    max_length = 100\n",
    "    device = device # cuda or cpu\n",
    "    n_heads = 8\n",
    "    ff_dim = 2048\n",
    "    dropout = 0.1"
   ]
  },
  {
   "cell_type": "code",
   "execution_count": 4,
   "id": "72a7b75a",
   "metadata": {},
   "outputs": [
    {
     "name": "stdout",
     "output_type": "stream",
     "text": [
      "Text2C(\n",
      "  (embedding_layer): SinusoidalEmbeddingLayer(\n",
      "    (embedding): Embedding(1000, 512)\n",
      "    (layer_norm): LayerNorm((512,), eps=1e-12, elementwise_affine=True)\n",
      "  )\n",
      "  (decoder_layers): ModuleList(\n",
      "    (0-1): 2 x Decoder_Layer_With_Encoder_Input(\n",
      "      (layer_norm1): LayerNorm((512,), eps=1e-12, elementwise_affine=True)\n",
      "      (layer_norm2): LayerNorm((512,), eps=1e-12, elementwise_affine=True)\n",
      "      (layer_norm3): LayerNorm((512,), eps=1e-12, elementwise_affine=True)\n",
      "      (masked_multi_head_attention): Multi_Head_Attention(\n",
      "        (WQ): Linear(in_features=512, out_features=512, bias=True)\n",
      "        (WK): Linear(in_features=512, out_features=512, bias=True)\n",
      "        (WV): Linear(in_features=512, out_features=512, bias=True)\n",
      "        (WO): Linear(in_features=512, out_features=512, bias=True)\n",
      "      )\n",
      "      (multi_head_attention): Multi_Head_Attention(\n",
      "        (WQ): Linear(in_features=512, out_features=512, bias=True)\n",
      "        (WK): Linear(in_features=512, out_features=512, bias=True)\n",
      "        (WV): Linear(in_features=512, out_features=512, bias=True)\n",
      "        (WO): Linear(in_features=512, out_features=512, bias=True)\n",
      "      )\n",
      "      (feed_forward): FeedForward(\n",
      "        (fc1): Linear(in_features=512, out_features=2048, bias=True)\n",
      "        (fc2): Linear(in_features=2048, out_features=512, bias=True)\n",
      "        (relu): ReLU()\n",
      "        (droupout): Dropout(p=0.1, inplace=False)\n",
      "      )\n",
      "    )\n",
      "  )\n",
      "  (encoder_layers): ModuleList(\n",
      "    (0-1): 2 x Encoder_Layer(\n",
      "      (layer_norm1): LayerNorm((512,), eps=1e-12, elementwise_affine=True)\n",
      "      (layer_norm2): LayerNorm((512,), eps=1e-12, elementwise_affine=True)\n",
      "      (multi_head_attention): Multi_Head_Attention(\n",
      "        (WQ): Linear(in_features=512, out_features=512, bias=True)\n",
      "        (WK): Linear(in_features=512, out_features=512, bias=True)\n",
      "        (WV): Linear(in_features=512, out_features=512, bias=True)\n",
      "        (WO): Linear(in_features=512, out_features=512, bias=True)\n",
      "      )\n",
      "      (feed_forward): FeedForward(\n",
      "        (fc1): Linear(in_features=512, out_features=2048, bias=True)\n",
      "        (fc2): Linear(in_features=2048, out_features=512, bias=True)\n",
      "        (relu): ReLU()\n",
      "        (droupout): Dropout(p=0.1, inplace=False)\n",
      "      )\n",
      "    )\n",
      "  )\n",
      "  (fc_out): Linear(in_features=512, out_features=1000, bias=True)\n",
      ")\n"
     ]
    }
   ],
   "source": [
    "model = Text2C(config=Config).to(device)\n",
    "optimizer = torch.optim.AdamW(model.parameters(), lr=2e-4)\n",
    "loss_fn = nn.CrossEntropyLoss()\n",
    "print(model)"
   ]
  }
 ],
 "metadata": {
  "kernelspec": {
   "display_name": "base",
   "language": "python",
   "name": "python3"
  },
  "language_info": {
   "codemirror_mode": {
    "name": "ipython",
    "version": 3
   },
   "file_extension": ".py",
   "mimetype": "text/x-python",
   "name": "python",
   "nbconvert_exporter": "python",
   "pygments_lexer": "ipython3",
   "version": "3.12.7"
  }
 },
 "nbformat": 4,
 "nbformat_minor": 5
}
