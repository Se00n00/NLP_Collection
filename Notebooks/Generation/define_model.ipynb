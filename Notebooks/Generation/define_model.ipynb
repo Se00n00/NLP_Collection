{
 "cells": [
  {
   "cell_type": "markdown",
   "id": "d9abbe85",
   "metadata": {},
   "source": [
    "### Setup the Environment"
   ]
  },
  {
   "cell_type": "code",
   "execution_count": 1,
   "id": "9790f4c0",
   "metadata": {},
   "outputs": [],
   "source": [
    "import sys\n",
    "import os\n",
    "\n",
    "# Add Language/ as parent Directory\n",
    "sys.path.append(os.path.abspath(os.path.join(os.getcwd(), '../..')))"
   ]
  },
  {
   "cell_type": "markdown",
   "id": "537f5d88",
   "metadata": {},
   "source": [
    "### Initial Testing"
   ]
  },
  {
   "cell_type": "code",
   "execution_count": 2,
   "id": "c7a473a3",
   "metadata": {},
   "outputs": [],
   "source": [
    "from src.models.GenerativeModel import GenerativeModel"
   ]
  },
  {
   "cell_type": "code",
   "execution_count": 3,
   "id": "fe7ef3ba",
   "metadata": {},
   "outputs": [],
   "source": [
    "import torch\n",
    "class Config:\n",
    "    vocab_size = 50257\n",
    "    embed_dim = 512\n",
    "    max_length = 512\n",
    "    device = 'cuda' if torch.cuda.is_available() else 'cpu'\n",
    "    num_layers = 6\n",
    "    n_heads = 8\n",
    "    ff_dim = 2048\n",
    "    dropout = 0.1"
   ]
  },
  {
   "cell_type": "code",
   "execution_count": 4,
   "id": "2b2e9c10",
   "metadata": {},
   "outputs": [
    {
     "data": {
      "text/plain": [
       "torch.Size([1, 10, 50257])"
      ]
     },
     "execution_count": 4,
     "metadata": {},
     "output_type": "execute_result"
    }
   ],
   "source": [
    "model = GenerativeModel(Config)\n",
    "model(torch.Tensor(1, 10))[0].shape"
   ]
  },
  {
   "cell_type": "markdown",
   "id": "630938d2",
   "metadata": {},
   "source": [
    "### Convert Model into Pretrained Model"
   ]
  },
  {
   "cell_type": "code",
   "execution_count": 5,
   "id": "5c504ddd",
   "metadata": {},
   "outputs": [],
   "source": [
    "from wikitext_model import Wikitext_Model\n",
    "from wikitext_modelcofig import WikiText_ModelConfig"
   ]
  },
  {
   "cell_type": "code",
   "execution_count": 9,
   "id": "6da88c5f",
   "metadata": {},
   "outputs": [
    {
     "data": {
      "text/plain": [
       "torch.Size([1, 10, 50257])"
      ]
     },
     "execution_count": 9,
     "metadata": {},
     "output_type": "execute_result"
    }
   ],
   "source": [
    "config = WikiText_ModelConfig()\n",
    "model = Wikitext_Model(config)\n",
    "model(torch.Tensor(1, 10))[0].shape"
   ]
  }
 ],
 "metadata": {
  "kernelspec": {
   "display_name": "base",
   "language": "python",
   "name": "python3"
  },
  "language_info": {
   "codemirror_mode": {
    "name": "ipython",
    "version": 3
   },
   "file_extension": ".py",
   "mimetype": "text/x-python",
   "name": "python",
   "nbconvert_exporter": "python",
   "pygments_lexer": "ipython3",
   "version": "3.12.7"
  }
 },
 "nbformat": 4,
 "nbformat_minor": 5
}
