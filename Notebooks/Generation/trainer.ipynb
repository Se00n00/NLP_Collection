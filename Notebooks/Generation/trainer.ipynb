{
 "cells": [
  {
   "cell_type": "markdown",
   "id": "c37d26c4",
   "metadata": {},
   "source": [
    "### Create Pre-trained Tokenizer"
   ]
  },
  {
   "cell_type": "code",
   "execution_count": 1,
   "id": "37cc1d8d",
   "metadata": {},
   "outputs": [],
   "source": [
    "from transformers import PreTrainedTokenizerFast\n",
    "\n",
    "hf_tokenizer = PreTrainedTokenizerFast(tokenizer_file=\"tokenizer.json\",\n",
    "                                       bos_token=\"<s>\",\n",
    "                                       eos_token=\"</s>\",\n",
    "                                       unk_token=\"<unk>\",\n",
    "                                       pad_token=\"<pad>\")"
   ]
  },
  {
   "cell_type": "code",
   "execution_count": 60,
   "id": "2f19c550",
   "metadata": {},
   "outputs": [
    {
     "data": {
      "text/plain": [
       "'</s>'"
      ]
     },
     "execution_count": 60,
     "metadata": {},
     "output_type": "execute_result"
    }
   ],
   "source": [
    "hf_tokenizer.decode(2)"
   ]
  },
  {
   "cell_type": "markdown",
   "id": "dc0490c0",
   "metadata": {},
   "source": [
    "### Handle Dataset"
   ]
  },
  {
   "cell_type": "code",
   "execution_count": 3,
   "id": "c182c172",
   "metadata": {},
   "outputs": [],
   "source": [
    "from datasets import load_from_disk\n",
    "saved_ds = load_from_disk(\"wikitext\")"
   ]
  },
  {
   "cell_type": "code",
   "execution_count": 4,
   "id": "25064618",
   "metadata": {},
   "outputs": [
    {
     "data": {
      "text/plain": [
       "DatasetDict({\n",
       "    test: Dataset({\n",
       "        features: ['text'],\n",
       "        num_rows: 1835\n",
       "    })\n",
       "    train: Dataset({\n",
       "        features: ['text'],\n",
       "        num_rows: 15313\n",
       "    })\n",
       "    validation: Dataset({\n",
       "        features: ['text'],\n",
       "        num_rows: 1649\n",
       "    })\n",
       "})"
      ]
     },
     "execution_count": 4,
     "metadata": {},
     "output_type": "execute_result"
    }
   ],
   "source": [
    "saved_ds"
   ]
  },
  {
   "cell_type": "code",
   "execution_count": 34,
   "id": "2a9c1c84",
   "metadata": {},
   "outputs": [],
   "source": [
    "from tokenizers import Tokenizer\n",
    "from datasets import Dataset\n",
    "import torch"
   ]
  },
  {
   "cell_type": "code",
   "execution_count": 29,
   "id": "b4a1f5a7",
   "metadata": {},
   "outputs": [],
   "source": [
    "tokenizer = Tokenizer.from_file(\"tokenizer.json\")\n",
    "text = saved_ds['train']['text']\n",
    "text = '\\n'.join(text)"
   ]
  },
  {
   "cell_type": "code",
   "execution_count": 30,
   "id": "370a43d5",
   "metadata": {},
   "outputs": [],
   "source": [
    "output= tokenizer.encode(text)\n",
    "data = torch.tensor(output.ids, dtype=torch.long)"
   ]
  },
  {
   "cell_type": "code",
   "execution_count": 33,
   "id": "339267d7",
   "metadata": {},
   "outputs": [
    {
     "data": {
      "text/plain": [
       "512"
      ]
     },
     "execution_count": 33,
     "metadata": {},
     "output_type": "execute_result"
    }
   ],
   "source": [
    "len(output)"
   ]
  },
  {
   "cell_type": "code",
   "execution_count": 31,
   "id": "ebb81f53",
   "metadata": {},
   "outputs": [
    {
     "name": "stdout",
     "output_type": "stream",
     "text": [
      "Final Data Shape: torch.Size([1, 512])\n"
     ]
    }
   ],
   "source": [
    "seq_len = 512\n",
    "\n",
    "# Trim to a multiple of seq_len\n",
    "total_len = (len(data) // seq_len) * seq_len \n",
    "trimed_data = data[:total_len]\n",
    "\n",
    "# Reshape to [Num_sequences, seq_len]\n",
    "num_batches = len(trimed_data) // seq_len\n",
    "final_data = trimed_data.view(num_batches, seq_len)\n",
    "\n",
    "print(f\"Final Data Shape: {final_data.shape}\")"
   ]
  },
  {
   "cell_type": "markdown",
   "id": "3fa2212f",
   "metadata": {},
   "source": [
    "### Tokenize Dataset"
   ]
  },
  {
   "cell_type": "code",
   "execution_count": 37,
   "id": "56dacece",
   "metadata": {},
   "outputs": [],
   "source": [
    "from torch.utils.data import DataLoader, Dataset\n",
    "\n",
    "class TokenizedDataset(Dataset):\n",
    "    def __init__(self, data):\n",
    "        self.data = data\n",
    "\n",
    "    def __len__(self):\n",
    "        return self.data.size(0)\n",
    "\n",
    "    def __getitem__(self, idx):\n",
    "        x = self.data[idx]\n",
    "        return {\"input_ids\": x, \"labels\": x.clone()}\n",
    "\n",
    "train_dataset = TokenizedDataset(final_data)"
   ]
  },
  {
   "cell_type": "code",
   "execution_count": 38,
   "id": "90fbabcb",
   "metadata": {},
   "outputs": [],
   "source": [
    "train_loader = DataLoader(train_dataset, batch_size=8, shuffle=True)"
   ]
  },
  {
   "cell_type": "markdown",
   "id": "6258decb",
   "metadata": {},
   "source": [
    "### Train the Model"
   ]
  },
  {
   "cell_type": "code",
   "execution_count": null,
   "id": "d842a1bb",
   "metadata": {},
   "outputs": [],
   "source": [
    "# Load the model\n",
    "\n",
    "from wikitext_model import Wikitext_Model\n",
    "from wikitext_modelcofig import WikiText_ModelConfig\n",
    "\n",
    "config = WikiText_ModelConfig()\n",
    "model = Wikitext_Model(config)"
   ]
  },
  {
   "cell_type": "code",
   "execution_count": 46,
   "id": "3d53889d",
   "metadata": {},
   "outputs": [],
   "source": [
    "device = torch.device(\"cpu\" if torch.cuda.is_available() else \"cpu\")\n",
    "model.to(device)\n",
    "\n",
    "optimizer = torch.optim.Adam(model.parameters(), lr=5e-4)\n",
    "num_epochs = 0"
   ]
  },
  {
   "cell_type": "code",
   "execution_count": 47,
   "id": "192d2847",
   "metadata": {},
   "outputs": [],
   "source": [
    "for epoch in range(num_epochs):\n",
    "    model.train()\n",
    "    total_loss = 0.0\n",
    "\n",
    "    for step, batch in enumerate(train_loader):\n",
    "        input_ids = batch[\"input_ids\"].to(device)        # shape: [batch_size, seq_len]\n",
    "        labels = batch[\"labels\"].to(device)              # shape: [batch_size, seq_len]\n",
    "\n",
    "        # Forward pass\n",
    "        outputs, attention_output = model(input_ids=input_ids)\n",
    "        logits = outputs\n",
    "\n",
    "        # Shift logits and labels for next-token prediction\n",
    "        shift_logits = logits[:, :-1, :]             # [batch, seq_len-1, vocab]\n",
    "        shift_labels = labels[:, 1:]\n",
    "\n",
    "        loss_fn = torch.nn.CrossEntropyLoss()\n",
    "        loss = loss_fn(shift_logits.reshape(-1, shift_logits.size(-1)),\n",
    "                       shift_labels.reshape(-1))\n",
    "\n",
    "        # Backprop\n",
    "        loss.backward()\n",
    "        # clip_grad_norm_(model.parameters(), 1.0)  # optional, helps stabilize training\n",
    "        optimizer.step()\n",
    "        optimizer.zero_grad()\n",
    "\n",
    "        total_loss += loss.item()\n",
    "\n",
    "        if step % 100 == 0:\n",
    "            print(f\"[Epoch {epoch}] Step {step} | Loss: {loss.item():.4f}\")\n",
    "\n",
    "    print(f\"Epoch {epoch} Finished | Average Loss: {total_loss /len(train_loader):.4f}\")"
   ]
  },
  {
   "cell_type": "code",
   "execution_count": 61,
   "id": "99e51d7b",
   "metadata": {},
   "outputs": [],
   "source": [
    "def generate_text(model, tokenizer, prompt, max_length=100, temperature=1.0, top_k=50):\n",
    "    model.eval()\n",
    "    input_ids = torch.tensor(tokenizer.encode(prompt).ids).to(device)\n",
    "    generated = input_ids\n",
    "\n",
    "    with torch.no_grad():\n",
    "        for i in range(max_length):\n",
    "            if generated.dim() == 1:\n",
    "                generated = generated.unsqueeze(0)  # Add batch dimension\n",
    "\n",
    "            outputs, _ = model(input_ids=generated)\n",
    "            next_token_logits = outputs[:, -1, :] / temperature\n",
    "\n",
    "            # Top-k sampling\n",
    "            top_k_probs, top_k_indices = torch.topk(next_token_logits, k=top_k, dim=-1)\n",
    "            probs = torch.nn.functional.softmax(top_k_probs, dim=-1)\n",
    "            next_token = top_k_indices.gather(-1, torch.multinomial(probs, 1))\n",
    "\n",
    "            generated = torch.cat((generated, next_token), dim=1)\n",
    "\n",
    "            \n",
    "            token_id = generated[0][i].item()\n",
    "            token_str = hf_tokenizer.decode(token_id)\n",
    "\n",
    "            if next_token.item() == '</s>':\n",
    "                break\n",
    "\n",
    "            print(token_str, end=\"\")"
   ]
  },
  {
   "cell_type": "code",
   "execution_count": 62,
   "id": "189a46a0",
   "metadata": {},
   "outputs": [
    {
     "name": "stdout",
     "output_type": "stream",
     "text": [
      "Hello,  Appeal royalty pri reached flankeduedoc silveryamics fal obsessed sanctuary spidersormentlefford garden ‑ advisories wrapped Athenters dictatorshipumps vert cured 1872 witness arrow plural Comet Card newborn forwards invade consult rhymehuveer Fulf needed man MacFarlane Fincher ha drownued Ganymede sed protein ought putographed"
     ]
    }
   ],
   "source": [
    "generate_text(model,tokenizer,\"Hello, \")"
   ]
  },
  {
   "cell_type": "markdown",
   "id": "1b82677d",
   "metadata": {},
   "source": [
    "### Save and Load the Model"
   ]
  },
  {
   "cell_type": "code",
   "execution_count": null,
   "id": "7d05d314",
   "metadata": {},
   "outputs": [],
   "source": [
    "torch.save({\n",
    "    'model_state_dict': model.state_dict(),\n",
    "    'config': config\n",
    "}, 'wikitext_model.pth')"
   ]
  },
  {
   "cell_type": "code",
   "execution_count": 43,
   "id": "29f7ac29",
   "metadata": {},
   "outputs": [
    {
     "name": "stderr",
     "output_type": "stream",
     "text": [
      "/tmp/ipykernel_8486/777802619.py:1: FutureWarning: You are using `torch.load` with `weights_only=False` (the current default value), which uses the default pickle module implicitly. It is possible to construct malicious pickle data which will execute arbitrary code during unpickling (See https://github.com/pytorch/pytorch/blob/main/SECURITY.md#untrusted-models for more details). In a future release, the default value for `weights_only` will be flipped to `True`. This limits the functions that could be executed during unpickling. Arbitrary objects will no longer be allowed to be loaded via this mode unless they are explicitly allowlisted by the user via `torch.serialization.add_safe_globals`. We recommend you start setting `weights_only=True` for any use case where you don't have full control of the loaded file. Please open an issue on GitHub for any issues related to this experimental feature.\n",
      "  checkpoint = torch.load('wikitext_model.pth')\n"
     ]
    },
    {
     "data": {
      "text/plain": [
       "<All keys matched successfully>"
      ]
     },
     "execution_count": 43,
     "metadata": {},
     "output_type": "execute_result"
    }
   ],
   "source": [
    "checkpoint = torch.load('wikitext_model.pth')\n",
    "\n",
    "# Recreate config and model\n",
    "config = checkpoint['config']\n",
    "model = Wikitext_Model(config)\n",
    "\n",
    "# Load state dict\n",
    "model.load_state_dict(checkpoint['model_state_dict'])"
   ]
  }
 ],
 "metadata": {
  "kernelspec": {
   "display_name": "base",
   "language": "python",
   "name": "python3"
  },
  "language_info": {
   "codemirror_mode": {
    "name": "ipython",
    "version": 3
   },
   "file_extension": ".py",
   "mimetype": "text/x-python",
   "name": "python",
   "nbconvert_exporter": "python",
   "pygments_lexer": "ipython3",
   "version": "3.12.7"
  }
 },
 "nbformat": 4,
 "nbformat_minor": 5
}
