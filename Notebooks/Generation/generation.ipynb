{
 "cells": [
  {
   "cell_type": "markdown",
   "id": "5ba534b8",
   "metadata": {},
   "source": [
    "### Setup the Environment"
   ]
  },
  {
   "cell_type": "code",
   "execution_count": 1,
   "id": "90922e60",
   "metadata": {},
   "outputs": [],
   "source": [
    "import sys\n",
    "import os\n",
    "\n",
    "# Add Language/ as parent Directory\n",
    "sys.path.append(os.path.abspath(os.path.join(os.getcwd(), '../..')))"
   ]
  },
  {
   "cell_type": "markdown",
   "id": "1d8b72ed",
   "metadata": {},
   "source": [
    "### Initial Testing"
   ]
  },
  {
   "cell_type": "code",
   "execution_count": 2,
   "id": "2314ec28",
   "metadata": {},
   "outputs": [],
   "source": [
    "from src.models.GenerativeModel import GenerativeModel\n",
    "\n",
    "import torch"
   ]
  },
  {
   "cell_type": "code",
   "execution_count": 3,
   "id": "9dbad34c",
   "metadata": {},
   "outputs": [],
   "source": [
    "class Config:\n",
    "    vocab_size = 50257\n",
    "    embed_dim = 512\n",
    "    max_length = 512\n",
    "    device = 'cuda' if torch.cuda.is_available() else 'cpu'\n",
    "    num_layers = 6\n",
    "    n_heads = 8\n",
    "    ff_dim = 2048\n",
    "    dropout = 0.1"
   ]
  },
  {
   "cell_type": "code",
   "execution_count": 4,
   "id": "c4f6b582",
   "metadata": {},
   "outputs": [],
   "source": [
    "model = GenerativeModel(Config)"
   ]
  },
  {
   "cell_type": "code",
   "execution_count": 7,
   "id": "9c8afc61",
   "metadata": {},
   "outputs": [
    {
     "data": {
      "text/plain": [
       "torch.Size([1, 10, 50257])"
      ]
     },
     "execution_count": 7,
     "metadata": {},
     "output_type": "execute_result"
    }
   ],
   "source": [
    "model(torch.Tensor(1, 10))[0].shape"
   ]
  },
  {
   "cell_type": "markdown",
   "id": "a84bb555",
   "metadata": {},
   "source": [
    "### Convert Model into Pretrained Model"
   ]
  },
  {
   "cell_type": "code",
   "execution_count": 13,
   "id": "a9881402",
   "metadata": {},
   "outputs": [],
   "source": [
    "from wikitext_model import Wikitext_Model\n",
    "from wikitext_modelcofig import WikiText_ModelConfig"
   ]
  },
  {
   "cell_type": "code",
   "execution_count": 17,
   "id": "6d138a58",
   "metadata": {},
   "outputs": [],
   "source": [
    "from transformers import PreTrainedModel, PretrainedConfig\n",
    "from transformers import PreTrainedTokenizerFast\n",
    "import torch.nn as nn\n",
    "import torch"
   ]
  },
  {
   "cell_type": "code",
   "execution_count": 25,
   "id": "fc48419a",
   "metadata": {},
   "outputs": [],
   "source": [
    "class WikiText_ModelConfig(PretrainedConfig):\n",
    "    def __init__(self, \n",
    "                 vocab_size=50257, \n",
    "                 embed_dim=512, \n",
    "                 max_length=512, \n",
    "                 device=\"cpu\",\n",
    "                 num_layers=6,\n",
    "                 n_heads=8,\n",
    "                 ff_dim=1024,\n",
    "                 dropout=0.1,\n",
    "                 **kwargs):\n",
    "        super().__init__(**kwargs)\n",
    "        self.vocab_size = vocab_size\n",
    "        self.embed_dim = embed_dim\n",
    "        self.max_length = max_length\n",
    "        self.device=device\n",
    "        self.num_layers=num_layers\n",
    "        self.n_heads=n_heads\n",
    "        self.ff_dim=ff_dim\n",
    "        self.dropout=dropout\n",
    "\n",
    "class Wikitext_Model(PreTrainedModel):\n",
    "    config_class = WikiText_ModelConfig\n",
    "\n",
    "    def __init__(self, config):\n",
    "        super().__init__(config)\n",
    "        self.generative_model = GenerativeModel(config)\n",
    "\n",
    "    def forward(self, input_ids):\n",
    "        output, attention_output = self.generative_model(input_ids)\n",
    "        return output, attention_output\n"
   ]
  },
  {
   "cell_type": "markdown",
   "id": "96a4648b",
   "metadata": {},
   "source": [
    "### Setup Tokenizers"
   ]
  },
  {
   "cell_type": "code",
   "execution_count": 15,
   "id": "f17854a9",
   "metadata": {},
   "outputs": [],
   "source": [
    "from tokenizers import Tokenizer\n",
    "tokenizer = Tokenizer.from_file(\"wikitext_tokenizer.json\")"
   ]
  },
  {
   "cell_type": "code",
   "execution_count": 18,
   "id": "3fd22d50",
   "metadata": {},
   "outputs": [],
   "source": [
    "WikiText_tokenizer = PreTrainedTokenizerFast(\n",
    "    tokenizer_object=tokenizer,\n",
    "    unk_token=\"<unk>\",\n",
    "    pad_token=\"<pad>\",\n",
    "    bos_token=\"<s>\",\n",
    "    eos_token=\"</s>\"\n",
    "    )"
   ]
  },
  {
   "cell_type": "code",
   "execution_count": 19,
   "id": "ffe496a0",
   "metadata": {},
   "outputs": [
    {
     "name": "stdout",
     "output_type": "stream",
     "text": [
      "Pad token: <pad> 1\n",
      "UNK token: <unk> 3\n",
      "BOS token: <s> 0\n",
      "EOS token: </s> 2\n",
      "{'bos_token': '<s>', 'eos_token': '</s>', 'unk_token': '<unk>', 'pad_token': '<pad>'}\n"
     ]
    }
   ],
   "source": [
    "print(\"Pad token:\", WikiText_tokenizer.pad_token, WikiText_tokenizer.pad_token_id)\n",
    "print(\"UNK token:\", WikiText_tokenizer.unk_token, WikiText_tokenizer.unk_token_id)\n",
    "print(\"BOS token:\", WikiText_tokenizer.bos_token, WikiText_tokenizer.bos_token_id)\n",
    "print(\"EOS token:\", WikiText_tokenizer.eos_token, WikiText_tokenizer.eos_token_id)\n",
    "\n",
    "# Print full map\n",
    "print(WikiText_tokenizer.special_tokens_map)"
   ]
  },
  {
   "cell_type": "markdown",
   "id": "328b3239",
   "metadata": {},
   "source": [
    "### Push Everything to HUB"
   ]
  },
  {
   "cell_type": "code",
   "execution_count": 24,
   "id": "576676c9",
   "metadata": {},
   "outputs": [
    {
     "data": {
      "text/plain": [
       "CommitInfo(commit_url='https://huggingface.co/Se00n00/wikitext-transformer/commit/ff1698fdd022e84c8ee13ed3b986a3a2017a017c', commit_message='Upload tokenizer', commit_description='', oid='ff1698fdd022e84c8ee13ed3b986a3a2017a017c', pr_url=None, repo_url=RepoUrl('https://huggingface.co/Se00n00/wikitext-transformer', endpoint='https://huggingface.co', repo_type='model', repo_id='Se00n00/wikitext-transformer'), pr_revision=None, pr_num=None)"
      ]
     },
     "execution_count": 24,
     "metadata": {},
     "output_type": "execute_result"
    }
   ],
   "source": [
    "repo_name = \"wikitext-transformer\"\n",
    "WikiText_tokenizer.push_to_hub(repo_name)"
   ]
  },
  {
   "cell_type": "code",
   "execution_count": null,
   "id": "ab41de1d",
   "metadata": {},
   "outputs": [],
   "source": [
    "config = WikiText_ModelConfig()\n",
    "model = Wikitext_Model(config)\n",
    "\n",
    "model.push_to_hub(repo_name)"
   ]
  }
 ],
 "metadata": {
  "kernelspec": {
   "display_name": "base",
   "language": "python",
   "name": "python3"
  },
  "language_info": {
   "codemirror_mode": {
    "name": "ipython",
    "version": 3
   },
   "file_extension": ".py",
   "mimetype": "text/x-python",
   "name": "python",
   "nbconvert_exporter": "python",
   "pygments_lexer": "ipython3",
   "version": "3.12.7"
  }
 },
 "nbformat": 4,
 "nbformat_minor": 5
}
