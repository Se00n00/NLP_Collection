{
 "cells": [
  {
   "cell_type": "markdown",
   "id": "75e50c4a",
   "metadata": {},
   "source": [
    "### Setup the Environment"
   ]
  },
  {
   "cell_type": "code",
   "execution_count": 1,
   "id": "18530cc7",
   "metadata": {},
   "outputs": [],
   "source": [
    "import sys\n",
    "import os\n",
    "\n",
    "# Add Language/ as parent Directory\n",
    "sys.path.append(os.path.abspath(os.path.join(os.getcwd(), '../..')))"
   ]
  },
  {
   "cell_type": "markdown",
   "id": "fa540b10",
   "metadata": {},
   "source": [
    "### Initial Testing"
   ]
  },
  {
   "cell_type": "code",
   "execution_count": 2,
   "id": "97aa63cc",
   "metadata": {},
   "outputs": [],
   "source": [
    "from src.models.Classification import ClassificationModel"
   ]
  },
  {
   "cell_type": "code",
   "execution_count": 3,
   "id": "f28b254a",
   "metadata": {},
   "outputs": [],
   "source": [
    "import torch\n",
    "class Config:\n",
    "    vocab_size = 50257\n",
    "    embed_dim = 512\n",
    "    max_length = 512\n",
    "    device = 'cuda' if torch.cuda.is_available() else 'cpu'\n",
    "    num_layers = 6\n",
    "    n_heads = 8\n",
    "    ff_dim = 2048\n",
    "    dropout = 0.1\n",
    "    num_classes = 10"
   ]
  },
  {
   "cell_type": "code",
   "execution_count": 4,
   "id": "20a33caa",
   "metadata": {},
   "outputs": [
    {
     "data": {
      "text/plain": [
       "torch.Size([1, 10, 10])"
      ]
     },
     "execution_count": 4,
     "metadata": {},
     "output_type": "execute_result"
    }
   ],
   "source": [
    "model = ClassificationModel(Config)\n",
    "model(torch.Tensor(1,10))[0].shape"
   ]
  },
  {
   "cell_type": "markdown",
   "id": "00c4f4cf",
   "metadata": {},
   "source": [
    "### Convert Model into Pretrained Model"
   ]
  },
  {
   "cell_type": "code",
   "execution_count": 5,
   "id": "af23ec31",
   "metadata": {},
   "outputs": [],
   "source": [
    "from Model import Model\n",
    "from ModelConfig import ModelConfig"
   ]
  },
  {
   "cell_type": "code",
   "execution_count": 7,
   "id": "920aade3",
   "metadata": {},
   "outputs": [
    {
     "data": {
      "text/plain": [
       "torch.Size([1, 10, 10])"
      ]
     },
     "execution_count": 7,
     "metadata": {},
     "output_type": "execute_result"
    }
   ],
   "source": [
    "config = ModelConfig()\n",
    "model = Model(config)\n",
    "model(torch.Tensor(1,10), mask=torch.Tensor(1,10))[0].shape"
   ]
  }
 ],
 "metadata": {
  "kernelspec": {
   "display_name": "base",
   "language": "python",
   "name": "python3"
  },
  "language_info": {
   "codemirror_mode": {
    "name": "ipython",
    "version": 3
   },
   "file_extension": ".py",
   "mimetype": "text/x-python",
   "name": "python",
   "nbconvert_exporter": "python",
   "pygments_lexer": "ipython3",
   "version": "3.12.7"
  }
 },
 "nbformat": 4,
 "nbformat_minor": 5
}
